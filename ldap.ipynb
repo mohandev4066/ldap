{
 "cells": [
  {
   "cell_type": "code",
   "execution_count": 2,
   "metadata": {},
   "outputs": [],
   "source": [
    "import ldap\n"
   ]
  },
  {
   "cell_type": "code",
   "execution_count": null,
   "metadata": {},
   "outputs": [],
   "source": []
  },
  {
   "cell_type": "code",
   "execution_count": 3,
   "metadata": {},
   "outputs": [
    {
     "ename": "LDAPError",
     "evalue": "(11, 'Resource temporarily unavailable')",
     "output_type": "error",
     "traceback": [
      "\u001b[1;31m---------------------------------------------------------------------------\u001b[0m",
      "\u001b[1;31mLDAPError\u001b[0m                                 Traceback (most recent call last)",
      "\u001b[1;32m<ipython-input-3-885ba420a691>\u001b[0m in \u001b[0;36m<module>\u001b[1;34m\u001b[0m\n\u001b[0;32m     11\u001b[0m     \u001b[1;31m# adjust this to your base dn for searching\u001b[0m\u001b[1;33m\u001b[0m\u001b[1;33m\u001b[0m\u001b[1;33m\u001b[0m\u001b[0m\n\u001b[0;32m     12\u001b[0m     \u001b[0mbase_dn\u001b[0m \u001b[1;33m=\u001b[0m \u001b[1;34m\"dc=nic,dc=in\"\u001b[0m\u001b[1;33m\u001b[0m\u001b[1;33m\u001b[0m\u001b[0m\n\u001b[1;32m---> 13\u001b[1;33m     \u001b[0mconnect\u001b[0m \u001b[1;33m=\u001b[0m \u001b[0mldap\u001b[0m\u001b[1;33m.\u001b[0m\u001b[0minitialize\u001b[0m\u001b[1;33m(\u001b[0m\u001b[0mldap_server\u001b[0m\u001b[1;33m)\u001b[0m\u001b[1;33m\u001b[0m\u001b[1;33m\u001b[0m\u001b[0m\n\u001b[0m\u001b[0;32m     14\u001b[0m     \u001b[0msearch_filter\u001b[0m \u001b[1;33m=\u001b[0m \u001b[1;34m\"uid=\"\u001b[0m\u001b[1;33m+\u001b[0m\u001b[0musername\u001b[0m\u001b[1;33m\u001b[0m\u001b[1;33m\u001b[0m\u001b[0m\n\u001b[0;32m     15\u001b[0m     \u001b[1;32mtry\u001b[0m\u001b[1;33m:\u001b[0m\u001b[1;33m\u001b[0m\u001b[1;33m\u001b[0m\u001b[0m\n",
      "\u001b[1;32mc:\\users\\hp\\appdata\\local\\programs\\python\\python37-32\\lib\\site-packages\\ldap\\functions.py\u001b[0m in \u001b[0;36minitialize\u001b[1;34m(uri, trace_level, trace_file, trace_stack_limit, bytes_mode, **kwargs)\u001b[0m\n\u001b[0;32m     90\u001b[0m   \"\"\"\n\u001b[0;32m     91\u001b[0m   return LDAPObject(\n\u001b[1;32m---> 92\u001b[1;33m       uri, trace_level, trace_file, trace_stack_limit, bytes_mode, **kwargs)\n\u001b[0m\u001b[0;32m     93\u001b[0m \u001b[1;33m\u001b[0m\u001b[0m\n\u001b[0;32m     94\u001b[0m \u001b[1;33m\u001b[0m\u001b[0m\n",
      "\u001b[1;32mc:\\users\\hp\\appdata\\local\\programs\\python\\python37-32\\lib\\site-packages\\ldap\\ldapobject.py\u001b[0m in \u001b[0;36m__init__\u001b[1;34m(self, uri, trace_level, trace_file, trace_stack_limit, bytes_mode, bytes_strictness)\u001b[0m\n\u001b[0;32m    104\u001b[0m     \u001b[0mself\u001b[0m\u001b[1;33m.\u001b[0m\u001b[0m_uri\u001b[0m \u001b[1;33m=\u001b[0m \u001b[0muri\u001b[0m\u001b[1;33m\u001b[0m\u001b[1;33m\u001b[0m\u001b[0m\n\u001b[0;32m    105\u001b[0m     \u001b[0mself\u001b[0m\u001b[1;33m.\u001b[0m\u001b[0m_ldap_object_lock\u001b[0m \u001b[1;33m=\u001b[0m \u001b[0mself\u001b[0m\u001b[1;33m.\u001b[0m\u001b[0m_ldap_lock\u001b[0m\u001b[1;33m(\u001b[0m\u001b[1;34m'opcall'\u001b[0m\u001b[1;33m)\u001b[0m\u001b[1;33m\u001b[0m\u001b[1;33m\u001b[0m\u001b[0m\n\u001b[1;32m--> 106\u001b[1;33m     \u001b[0mself\u001b[0m\u001b[1;33m.\u001b[0m\u001b[0m_l\u001b[0m \u001b[1;33m=\u001b[0m \u001b[0mldap\u001b[0m\u001b[1;33m.\u001b[0m\u001b[0mfunctions\u001b[0m\u001b[1;33m.\u001b[0m\u001b[0m_ldap_function_call\u001b[0m\u001b[1;33m(\u001b[0m\u001b[0mldap\u001b[0m\u001b[1;33m.\u001b[0m\u001b[0m_ldap_module_lock\u001b[0m\u001b[1;33m,\u001b[0m\u001b[0m_ldap\u001b[0m\u001b[1;33m.\u001b[0m\u001b[0minitialize\u001b[0m\u001b[1;33m,\u001b[0m\u001b[0muri\u001b[0m\u001b[1;33m)\u001b[0m\u001b[1;33m\u001b[0m\u001b[1;33m\u001b[0m\u001b[0m\n\u001b[0m\u001b[0;32m    107\u001b[0m     \u001b[0mself\u001b[0m\u001b[1;33m.\u001b[0m\u001b[0mtimeout\u001b[0m \u001b[1;33m=\u001b[0m \u001b[1;33m-\u001b[0m\u001b[1;36m1\u001b[0m\u001b[1;33m\u001b[0m\u001b[1;33m\u001b[0m\u001b[0m\n\u001b[0;32m    108\u001b[0m     \u001b[0mself\u001b[0m\u001b[1;33m.\u001b[0m\u001b[0mprotocol_version\u001b[0m \u001b[1;33m=\u001b[0m \u001b[0mldap\u001b[0m\u001b[1;33m.\u001b[0m\u001b[0mVERSION3\u001b[0m\u001b[1;33m\u001b[0m\u001b[1;33m\u001b[0m\u001b[0m\n",
      "\u001b[1;32mc:\\users\\hp\\appdata\\local\\programs\\python\\python37-32\\lib\\site-packages\\ldap\\functions.py\u001b[0m in \u001b[0;36m_ldap_function_call\u001b[1;34m(lock, func, *args, **kwargs)\u001b[0m\n\u001b[0;32m     53\u001b[0m   \u001b[1;32mtry\u001b[0m\u001b[1;33m:\u001b[0m\u001b[1;33m\u001b[0m\u001b[1;33m\u001b[0m\u001b[0m\n\u001b[0;32m     54\u001b[0m     \u001b[1;32mtry\u001b[0m\u001b[1;33m:\u001b[0m\u001b[1;33m\u001b[0m\u001b[1;33m\u001b[0m\u001b[0m\n\u001b[1;32m---> 55\u001b[1;33m       \u001b[0mresult\u001b[0m \u001b[1;33m=\u001b[0m \u001b[0mfunc\u001b[0m\u001b[1;33m(\u001b[0m\u001b[1;33m*\u001b[0m\u001b[0margs\u001b[0m\u001b[1;33m,\u001b[0m\u001b[1;33m**\u001b[0m\u001b[0mkwargs\u001b[0m\u001b[1;33m)\u001b[0m\u001b[1;33m\u001b[0m\u001b[1;33m\u001b[0m\u001b[0m\n\u001b[0m\u001b[0;32m     56\u001b[0m     \u001b[1;32mfinally\u001b[0m\u001b[1;33m:\u001b[0m\u001b[1;33m\u001b[0m\u001b[1;33m\u001b[0m\u001b[0m\n\u001b[0;32m     57\u001b[0m       \u001b[1;32mif\u001b[0m \u001b[0mlock\u001b[0m\u001b[1;33m:\u001b[0m\u001b[1;33m\u001b[0m\u001b[1;33m\u001b[0m\u001b[0m\n",
      "\u001b[1;31mLDAPError\u001b[0m: (11, 'Resource temporarily unavailable')"
     ]
    }
   ],
   "source": [
    "# to be able to import ldap run pip install python-ldap \n",
    "\n",
    "import ldap\n",
    " \n",
    "if __name__ == \"__main__\":\n",
    "    ldap_server=\"10.120.43.66\"\n",
    "    username =\"bitly.auth\"\n",
    "    password= \"bitly@nic\"\n",
    "    # the following is the user_dn format provided by the ldap server\n",
    "    user_dn = \"uid=\"+username+\",ou=people,dc=nic,dc=in\"\n",
    "    # adjust this to your base dn for searching\n",
    "    base_dn = \"dc=nic,dc=in\"\n",
    "    connect = ldap.initialize(ldap_server)\n",
    "    search_filter = \"uid=\"+username\n",
    "    try:\n",
    "        #if authentication successful, get the full user data\n",
    "        connect.bind_s(user_dn,password)\n",
    "        result = connect.search_s(base_dn,ldap.SCOPE_SUBTREE,search_filter)\n",
    "        # return all user data results\n",
    "        connect.unbind_s()\n",
    "        print (result)\n",
    "    except ldap.LDAPError:\n",
    "        connect.unbind_s()\n",
    "        print (\"authentication error\")"
   ]
  },
  {
   "cell_type": "code",
   "execution_count": null,
   "metadata": {
    "scrolled": true
   },
   "outputs": [],
   "source": [
    "import ldap\n",
    "import json\n",
    "\n",
    "con = ldap.initialize('ldap://10.120.43.66')\n",
    "\n",
    "con.simple_bind_s(\"uid=bitly.auth,ou=People,o=inoc services,o=Application Services,o=nic.in,dc=nic,dc=in\", \"bitly@nic\")\n",
    "\n",
    "########## performing a simple ldap query ####################################\n",
    "\n",
    "ldap_base = \"dc=nic,dc=in\"\n",
    "\n",
    "###### add credential########\n",
    "uid=input\"enter the uid: \"\n",
    "paswrd=input\"enter the password\"\n",
    "\n",
    "query = \"(uid=\"uid\")\"\n",
    "result = con.search_s(ldap_base, ldap.SCOPE_SUBTREE, query)\n",
    "\n",
    "\n",
    "\n",
    "#here the result is in the form of list which has length \"2\"\n",
    "#print(result)\n",
    "\n",
    "a=result[0] #here a variable becomes tuple\n",
    "\n",
    "print(\"***********************************************\")\n",
    "# print(type(a))\n",
    "# print(len(a))\n",
    "# print(a[0])\n",
    "\n",
    "b=a[0]#now b variable is dictionary which carry the \"bind id\"\n",
    "\n",
    "con.simple_bind_s(b, paswrd)\n",
    "ldap_base = \"dc=nic,dc=in\"\n",
    "\n",
    "query = \"(uid=nitins.nhq)\"\n",
    "result = con.search_s(ldap_base, ldap.SCOPE_SUBTREE, query)\n",
    "\n",
    "# print(result)\n",
    "\n",
    "\n",
    "c=result[0] # tuple become dictionary\n",
    "\n",
    "\n",
    "# print(type(c))\n",
    "# print(c)\n",
    "# print(len(c))\n",
    "# print(c[1])  \n",
    "\n",
    "\n",
    "d=c[1] # fetch only the main file content that asked for\n",
    "\n",
    "\n",
    "# print(type(d))\n",
    "# print(len(d))\n",
    "\n",
    "\n",
    "x=d.get(\"mobile\")# used to fetch the mobile description\n",
    "\n",
    "print(x)\n",
    "\n",
    "\n",
    "\n",
    "\n"
   ]
  },
  {
   "cell_type": "code",
   "execution_count": 17,
   "metadata": {},
   "outputs": [
    {
     "name": "stdout",
     "output_type": "stream",
     "text": [
      "enter the uid: nitins.nhq\n",
      "enter the password: nitin@123\n",
      "[b'+919899803296']\n"
     ]
    }
   ],
   "source": [
    "import ldap\n",
    "\n",
    "con = ldap.initialize('ldap://10.120.43.66')\n",
    "\n",
    "con.simple_bind_s(\"uid=bitly.auth,ou=People,o=inoc services,o=Application Services,o=nic.in,dc=nic,dc=in\", \"bitly@nic\")\n",
    "\n",
    "########## performing a simple ldap query ####################################\n",
    "\n",
    "ldap_base = \"dc=nic,dc=in\"\n",
    "\n",
    "###### add credential########\n",
    "# uid=input(\"enter the uid: \")\n",
    "# paswrd=input(\"enter the password: \")\n",
    "uid=input(\"enter the uid: \")\n",
    "query=\"(uid=\"+uid+\")\"\n",
    "result1 = con.search_s(ldap_base, ldap.SCOPE_SUBTREE, query) # search query in the sub tree\n",
    "a=result1[0]\n",
    "b=a[0]\n",
    "\n",
    "#################here the result is in the form of list which has length \"2\"####################\n",
    "\n",
    "paswrd=input(\"enter the password: \")\n",
    "\n",
    "con.simple_bind_s(b,paswrd)\n",
    "ldap_base = \"dc=nic,dc=in\" \n",
    " \n",
    "   \n",
    "result = con.search_s(ldap_base, ldap.SCOPE_SUBTREE, query)\n",
    "\n",
    "c=result[0] # tuple become dictionary(bind id)\n",
    "  \n",
    "d=c[1] # fetch only the main file content that asked for\n",
    "\n",
    "x=d.get(\"mobile\")# used to fetch the mobile description\n",
    "\n",
    "print(x)"
   ]
  },
  {
   "cell_type": "code",
   "execution_count": 3,
   "metadata": {},
   "outputs": [
    {
     "ename": "SERVER_DOWN",
     "evalue": "{'desc': \"Can't contact LDAP server\"}",
     "output_type": "error",
     "traceback": [
      "\u001b[1;31m---------------------------------------------------------------------------\u001b[0m",
      "\u001b[1;31mSERVER_DOWN\u001b[0m                               Traceback (most recent call last)",
      "\u001b[1;32m<ipython-input-3-ae9f7a29bbda>\u001b[0m in \u001b[0;36m<module>\u001b[1;34m\u001b[0m\n\u001b[0;32m      3\u001b[0m \u001b[0mcon\u001b[0m \u001b[1;33m=\u001b[0m \u001b[0mldap\u001b[0m\u001b[1;33m.\u001b[0m\u001b[0minitialize\u001b[0m\u001b[1;33m(\u001b[0m\u001b[1;34m'ldap://10.120.43.66'\u001b[0m\u001b[1;33m)\u001b[0m\u001b[1;33m\u001b[0m\u001b[1;33m\u001b[0m\u001b[0m\n\u001b[0;32m      4\u001b[0m \u001b[1;33m\u001b[0m\u001b[0m\n\u001b[1;32m----> 5\u001b[1;33m \u001b[0mcon\u001b[0m\u001b[1;33m.\u001b[0m\u001b[0msimple_bind_s\u001b[0m\u001b[1;33m(\u001b[0m\u001b[1;34m\"uid=bitly.auth,ou=People,o=inoc services,o=Application Services,o=nic.in,dc=nic,dc=in\"\u001b[0m\u001b[1;33m,\u001b[0m \u001b[1;34m\"bitly@nic\"\u001b[0m\u001b[1;33m)\u001b[0m\u001b[1;33m\u001b[0m\u001b[1;33m\u001b[0m\u001b[0m\n\u001b[0m\u001b[0;32m      6\u001b[0m \u001b[1;33m\u001b[0m\u001b[0m\n\u001b[0;32m      7\u001b[0m \u001b[1;31m########## performing a simple ldap query ####################################\u001b[0m\u001b[1;33m\u001b[0m\u001b[1;33m\u001b[0m\u001b[1;33m\u001b[0m\u001b[0m\n",
      "\u001b[1;32mc:\\users\\hp\\appdata\\local\\programs\\python\\python37-32\\lib\\site-packages\\ldap\\ldapobject.py\u001b[0m in \u001b[0;36msimple_bind_s\u001b[1;34m(self, who, cred, serverctrls, clientctrls)\u001b[0m\n\u001b[0;32m    443\u001b[0m     \u001b[0msimple_bind_s\u001b[0m\u001b[1;33m(\u001b[0m\u001b[1;33m[\u001b[0m\u001b[0mwho\u001b[0m\u001b[1;33m=\u001b[0m\u001b[1;34m''\u001b[0m \u001b[1;33m[\u001b[0m\u001b[1;33m,\u001b[0m\u001b[0mcred\u001b[0m\u001b[1;33m=\u001b[0m\u001b[1;34m''\u001b[0m\u001b[1;33m]\u001b[0m\u001b[1;33m]\u001b[0m\u001b[1;33m)\u001b[0m \u001b[1;33m->\u001b[0m \u001b[1;36m4\u001b[0m\u001b[1;33m-\u001b[0m\u001b[0mtuple\u001b[0m\u001b[1;33m\u001b[0m\u001b[1;33m\u001b[0m\u001b[0m\n\u001b[0;32m    444\u001b[0m     \"\"\"\n\u001b[1;32m--> 445\u001b[1;33m     \u001b[0mmsgid\u001b[0m \u001b[1;33m=\u001b[0m \u001b[0mself\u001b[0m\u001b[1;33m.\u001b[0m\u001b[0msimple_bind\u001b[0m\u001b[1;33m(\u001b[0m\u001b[0mwho\u001b[0m\u001b[1;33m,\u001b[0m\u001b[0mcred\u001b[0m\u001b[1;33m,\u001b[0m\u001b[0mserverctrls\u001b[0m\u001b[1;33m,\u001b[0m\u001b[0mclientctrls\u001b[0m\u001b[1;33m)\u001b[0m\u001b[1;33m\u001b[0m\u001b[1;33m\u001b[0m\u001b[0m\n\u001b[0m\u001b[0;32m    446\u001b[0m     \u001b[0mresp_type\u001b[0m\u001b[1;33m,\u001b[0m \u001b[0mresp_data\u001b[0m\u001b[1;33m,\u001b[0m \u001b[0mresp_msgid\u001b[0m\u001b[1;33m,\u001b[0m \u001b[0mresp_ctrls\u001b[0m \u001b[1;33m=\u001b[0m \u001b[0mself\u001b[0m\u001b[1;33m.\u001b[0m\u001b[0mresult3\u001b[0m\u001b[1;33m(\u001b[0m\u001b[0mmsgid\u001b[0m\u001b[1;33m,\u001b[0m\u001b[0mall\u001b[0m\u001b[1;33m=\u001b[0m\u001b[1;36m1\u001b[0m\u001b[1;33m,\u001b[0m\u001b[0mtimeout\u001b[0m\u001b[1;33m=\u001b[0m\u001b[0mself\u001b[0m\u001b[1;33m.\u001b[0m\u001b[0mtimeout\u001b[0m\u001b[1;33m)\u001b[0m\u001b[1;33m\u001b[0m\u001b[1;33m\u001b[0m\u001b[0m\n\u001b[0;32m    447\u001b[0m     \u001b[1;32mreturn\u001b[0m \u001b[0mresp_type\u001b[0m\u001b[1;33m,\u001b[0m \u001b[0mresp_data\u001b[0m\u001b[1;33m,\u001b[0m \u001b[0mresp_msgid\u001b[0m\u001b[1;33m,\u001b[0m \u001b[0mresp_ctrls\u001b[0m\u001b[1;33m\u001b[0m\u001b[1;33m\u001b[0m\u001b[0m\n",
      "\u001b[1;32mc:\\users\\hp\\appdata\\local\\programs\\python\\python37-32\\lib\\site-packages\\ldap\\ldapobject.py\u001b[0m in \u001b[0;36msimple_bind\u001b[1;34m(self, who, cred, serverctrls, clientctrls)\u001b[0m\n\u001b[0;32m    437\u001b[0m         \u001b[0mwho\u001b[0m \u001b[1;33m=\u001b[0m \u001b[0mself\u001b[0m\u001b[1;33m.\u001b[0m\u001b[0m_bytesify_input\u001b[0m\u001b[1;33m(\u001b[0m\u001b[1;34m'who'\u001b[0m\u001b[1;33m,\u001b[0m \u001b[0mwho\u001b[0m\u001b[1;33m)\u001b[0m\u001b[1;33m\u001b[0m\u001b[1;33m\u001b[0m\u001b[0m\n\u001b[0;32m    438\u001b[0m         \u001b[0mcred\u001b[0m \u001b[1;33m=\u001b[0m \u001b[0mself\u001b[0m\u001b[1;33m.\u001b[0m\u001b[0m_bytesify_input\u001b[0m\u001b[1;33m(\u001b[0m\u001b[1;34m'cred'\u001b[0m\u001b[1;33m,\u001b[0m \u001b[0mcred\u001b[0m\u001b[1;33m)\u001b[0m\u001b[1;33m\u001b[0m\u001b[1;33m\u001b[0m\u001b[0m\n\u001b[1;32m--> 439\u001b[1;33m     \u001b[1;32mreturn\u001b[0m \u001b[0mself\u001b[0m\u001b[1;33m.\u001b[0m\u001b[0m_ldap_call\u001b[0m\u001b[1;33m(\u001b[0m\u001b[0mself\u001b[0m\u001b[1;33m.\u001b[0m\u001b[0m_l\u001b[0m\u001b[1;33m.\u001b[0m\u001b[0msimple_bind\u001b[0m\u001b[1;33m,\u001b[0m\u001b[0mwho\u001b[0m\u001b[1;33m,\u001b[0m\u001b[0mcred\u001b[0m\u001b[1;33m,\u001b[0m\u001b[0mRequestControlTuples\u001b[0m\u001b[1;33m(\u001b[0m\u001b[0mserverctrls\u001b[0m\u001b[1;33m)\u001b[0m\u001b[1;33m,\u001b[0m\u001b[0mRequestControlTuples\u001b[0m\u001b[1;33m(\u001b[0m\u001b[0mclientctrls\u001b[0m\u001b[1;33m)\u001b[0m\u001b[1;33m)\u001b[0m\u001b[1;33m\u001b[0m\u001b[1;33m\u001b[0m\u001b[0m\n\u001b[0m\u001b[0;32m    440\u001b[0m \u001b[1;33m\u001b[0m\u001b[0m\n\u001b[0;32m    441\u001b[0m   \u001b[1;32mdef\u001b[0m \u001b[0msimple_bind_s\u001b[0m\u001b[1;33m(\u001b[0m\u001b[0mself\u001b[0m\u001b[1;33m,\u001b[0m\u001b[0mwho\u001b[0m\u001b[1;33m=\u001b[0m\u001b[1;32mNone\u001b[0m\u001b[1;33m,\u001b[0m\u001b[0mcred\u001b[0m\u001b[1;33m=\u001b[0m\u001b[1;32mNone\u001b[0m\u001b[1;33m,\u001b[0m\u001b[0mserverctrls\u001b[0m\u001b[1;33m=\u001b[0m\u001b[1;32mNone\u001b[0m\u001b[1;33m,\u001b[0m\u001b[0mclientctrls\u001b[0m\u001b[1;33m=\u001b[0m\u001b[1;32mNone\u001b[0m\u001b[1;33m)\u001b[0m\u001b[1;33m:\u001b[0m\u001b[1;33m\u001b[0m\u001b[1;33m\u001b[0m\u001b[0m\n",
      "\u001b[1;32mc:\\users\\hp\\appdata\\local\\programs\\python\\python37-32\\lib\\site-packages\\ldap\\ldapobject.py\u001b[0m in \u001b[0;36m_ldap_call\u001b[1;34m(self, func, *args, **kwargs)\u001b[0m\n\u001b[0;32m    329\u001b[0m         \u001b[0mself\u001b[0m\u001b[1;33m.\u001b[0m\u001b[0m_trace_file\u001b[0m\u001b[1;33m.\u001b[0m\u001b[0mwrite\u001b[0m\u001b[1;33m(\u001b[0m\u001b[1;34m'=> LDAPError - %s: %s\\n'\u001b[0m \u001b[1;33m%\u001b[0m \u001b[1;33m(\u001b[0m\u001b[0me\u001b[0m\u001b[1;33m.\u001b[0m\u001b[0m__class__\u001b[0m\u001b[1;33m.\u001b[0m\u001b[0m__name__\u001b[0m\u001b[1;33m,\u001b[0m\u001b[0mstr\u001b[0m\u001b[1;33m(\u001b[0m\u001b[0me\u001b[0m\u001b[1;33m)\u001b[0m\u001b[1;33m)\u001b[0m\u001b[1;33m)\u001b[0m\u001b[1;33m\u001b[0m\u001b[1;33m\u001b[0m\u001b[0m\n\u001b[0;32m    330\u001b[0m       \u001b[1;32mtry\u001b[0m\u001b[1;33m:\u001b[0m\u001b[1;33m\u001b[0m\u001b[1;33m\u001b[0m\u001b[0m\n\u001b[1;32m--> 331\u001b[1;33m         \u001b[0mreraise\u001b[0m\u001b[1;33m(\u001b[0m\u001b[0mexc_type\u001b[0m\u001b[1;33m,\u001b[0m \u001b[0mexc_value\u001b[0m\u001b[1;33m,\u001b[0m \u001b[0mexc_traceback\u001b[0m\u001b[1;33m)\u001b[0m\u001b[1;33m\u001b[0m\u001b[1;33m\u001b[0m\u001b[0m\n\u001b[0m\u001b[0;32m    332\u001b[0m       \u001b[1;32mfinally\u001b[0m\u001b[1;33m:\u001b[0m\u001b[1;33m\u001b[0m\u001b[1;33m\u001b[0m\u001b[0m\n\u001b[0;32m    333\u001b[0m         \u001b[0mexc_type\u001b[0m \u001b[1;33m=\u001b[0m \u001b[0mexc_value\u001b[0m \u001b[1;33m=\u001b[0m \u001b[0mexc_traceback\u001b[0m \u001b[1;33m=\u001b[0m \u001b[1;32mNone\u001b[0m\u001b[1;33m\u001b[0m\u001b[1;33m\u001b[0m\u001b[0m\n",
      "\u001b[1;32mc:\\users\\hp\\appdata\\local\\programs\\python\\python37-32\\lib\\site-packages\\ldap\\compat.py\u001b[0m in \u001b[0;36mreraise\u001b[1;34m(exc_type, exc_value, exc_traceback)\u001b[0m\n\u001b[0;32m     42\u001b[0m         \"\"\"\n\u001b[0;32m     43\u001b[0m         \u001b[1;31m# In Python 3, all exception info is contained in one object.\u001b[0m\u001b[1;33m\u001b[0m\u001b[1;33m\u001b[0m\u001b[1;33m\u001b[0m\u001b[0m\n\u001b[1;32m---> 44\u001b[1;33m         \u001b[1;32mraise\u001b[0m \u001b[0mexc_value\u001b[0m\u001b[1;33m\u001b[0m\u001b[1;33m\u001b[0m\u001b[0m\n\u001b[0m\u001b[0;32m     45\u001b[0m \u001b[1;33m\u001b[0m\u001b[0m\n\u001b[0;32m     46\u001b[0m \u001b[1;32mtry\u001b[0m\u001b[1;33m:\u001b[0m\u001b[1;33m\u001b[0m\u001b[1;33m\u001b[0m\u001b[0m\n",
      "\u001b[1;32mc:\\users\\hp\\appdata\\local\\programs\\python\\python37-32\\lib\\site-packages\\ldap\\ldapobject.py\u001b[0m in \u001b[0;36m_ldap_call\u001b[1;34m(self, func, *args, **kwargs)\u001b[0m\n\u001b[0;32m    313\u001b[0m     \u001b[1;32mtry\u001b[0m\u001b[1;33m:\u001b[0m\u001b[1;33m\u001b[0m\u001b[1;33m\u001b[0m\u001b[0m\n\u001b[0;32m    314\u001b[0m       \u001b[1;32mtry\u001b[0m\u001b[1;33m:\u001b[0m\u001b[1;33m\u001b[0m\u001b[1;33m\u001b[0m\u001b[0m\n\u001b[1;32m--> 315\u001b[1;33m         \u001b[0mresult\u001b[0m \u001b[1;33m=\u001b[0m \u001b[0mfunc\u001b[0m\u001b[1;33m(\u001b[0m\u001b[1;33m*\u001b[0m\u001b[0margs\u001b[0m\u001b[1;33m,\u001b[0m\u001b[1;33m**\u001b[0m\u001b[0mkwargs\u001b[0m\u001b[1;33m)\u001b[0m\u001b[1;33m\u001b[0m\u001b[1;33m\u001b[0m\u001b[0m\n\u001b[0m\u001b[0;32m    316\u001b[0m         \u001b[1;32mif\u001b[0m \u001b[0m__debug__\u001b[0m \u001b[1;32mand\u001b[0m \u001b[0mself\u001b[0m\u001b[1;33m.\u001b[0m\u001b[0m_trace_level\u001b[0m\u001b[1;33m>=\u001b[0m\u001b[1;36m2\u001b[0m\u001b[1;33m:\u001b[0m\u001b[1;33m\u001b[0m\u001b[1;33m\u001b[0m\u001b[0m\n\u001b[0;32m    317\u001b[0m           \u001b[1;32mif\u001b[0m \u001b[0mfunc\u001b[0m\u001b[1;33m.\u001b[0m\u001b[0m__name__\u001b[0m\u001b[1;33m!=\u001b[0m\u001b[1;34m\"unbind_ext\"\u001b[0m\u001b[1;33m:\u001b[0m\u001b[1;33m\u001b[0m\u001b[1;33m\u001b[0m\u001b[0m\n",
      "\u001b[1;31mSERVER_DOWN\u001b[0m: {'desc': \"Can't contact LDAP server\"}"
     ]
    }
   ],
   "source": [
    "import ldap\n",
    "\n",
    "con = ldap.initialize('ldap://10.120.43.66')\n",
    "\n",
    "con.simple_bind_s(\"uid=bitly.auth,ou=People,o=inoc services,o=Application Services,o=nic.in,dc=nic,dc=in\", \"bitly@nic\")\n",
    "\n",
    "########## performing a simple ldap query ####################################\n",
    "\n",
    "ldap_base = \"dc=nic,dc=in\"\n",
    "\n",
    "###### add credential########\n",
    "# uid=input(\"enter the uid: \")\n",
    "# paswrd=input(\"enter the password: \")\n",
    "uid=input(\"enter the uid: \")\n",
    "query=\"(uid=\"+uid+\")\"\n",
    "result1 = con.search_s(ldap_base, ldap.SCOPE_SUBTREE, query) # search query in the sub tree\n",
    "a=result1[0]\n",
    "b=a[0]\n",
    "\n",
    "#################here the result is in the form of list which has length \"2\"####################\n",
    "\n",
    "paswrd=input(\"enter the password: \")\n",
    "\n",
    "con.simple_bind_s(b,paswrd)\n",
    "ldap_base = \"dc=nic,dc=in\" \n",
    " \n",
    "   \n",
    "result = con.search_s(ldap_base, ldap.SCOPE_SUBTREE, query)\n",
    "print(result)\n",
    "\n",
    "c=result[0] # tuple become dictionary(bind id)\n",
    "  \n",
    "d=c[1] # fetch only the main file content that asked for\n",
    "\n",
    "x=d.get(\"mobile\")# used to fetch the mobile description\n",
    "\n",
    "print(x)"
   ]
  },
  {
   "cell_type": "code",
   "execution_count": null,
   "metadata": {},
   "outputs": [],
   "source": []
  },
  {
   "cell_type": "code",
   "execution_count": null,
   "metadata": {},
   "outputs": [],
   "source": []
  }
 ],
 "metadata": {
  "kernelspec": {
   "display_name": "Python 3",
   "language": "python",
   "name": "python3"
  },
  "language_info": {
   "codemirror_mode": {
    "name": "ipython",
    "version": 3
   },
   "file_extension": ".py",
   "mimetype": "text/x-python",
   "name": "python",
   "nbconvert_exporter": "python",
   "pygments_lexer": "ipython3",
   "version": "3.7.2"
  }
 },
 "nbformat": 4,
 "nbformat_minor": 2
}
